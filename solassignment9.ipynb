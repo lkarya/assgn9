{
 "cells": [
  {
   "cell_type": "code",
   "execution_count": null,
   "id": "60c82628",
   "metadata": {},
   "outputs": [],
   "source": [
    "# To what does a relative path refer?\n",
    "A relative path refers to a location that is relative to a current directory.\n",
    "\n",
    "# What does an absolute path start with your operating system?\n",
    "An absolute path refers to the complete details needed to locate a file or folder, \n",
    "starting from the root element and ending with the other subdirectories.\n",
    "\n",
    "# What do the functions os.getcwd() and os.chdir() do?\n",
    "allows you to see what your current working directory.\n",
    "\n",
    "# What are the . and .. folders?\n",
    "The . folder is the current folder, and .. is the parent folder.\n",
    "\n",
    "# In C:\\bacon\\eggs\\spam.txt, which part is the dir name, and which part is the base name?\n",
    "C:\\bacon\\eggs is the dir name, while spam.txt is the base name.\n",
    "    \n",
    "# What are the three \"mode\" arguments that can be passed to the open() function?\n",
    "The string 'r' for read mode, 'w' for write mode, and 'a' for append mode\n",
    "\n",
    "# What happens if an existing file is opened in write mode?\n",
    "An existing file opened in write mode is erased and completely overwritten.\n",
    "\n",
    "# What is the difference between the read() and readlines() methods?\n",
    "The read() method returns the file's entire contents as a single string value. \n",
    "The readlines() method returns a list of strings, where each string is a line from the file's contents.\n",
    "\n",
    "# What data structure does a shelf value resemble?\n",
    "A shelf value resembles a dictionary value; it has keys and values, \n",
    "along with keys() and values() methods that work similarly to the dictionary methods of the same names."
   ]
  }
 ],
 "metadata": {
  "kernelspec": {
   "display_name": "Python 3 (ipykernel)",
   "language": "python",
   "name": "python3"
  },
  "language_info": {
   "codemirror_mode": {
    "name": "ipython",
    "version": 3
   },
   "file_extension": ".py",
   "mimetype": "text/x-python",
   "name": "python",
   "nbconvert_exporter": "python",
   "pygments_lexer": "ipython3",
   "version": "3.9.7"
  }
 },
 "nbformat": 4,
 "nbformat_minor": 5
}
